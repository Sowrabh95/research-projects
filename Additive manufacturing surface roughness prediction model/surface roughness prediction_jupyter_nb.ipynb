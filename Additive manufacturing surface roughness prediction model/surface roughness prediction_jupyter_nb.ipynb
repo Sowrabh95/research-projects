{
  "cells": [
    {
      "cell_type": "markdown",
      "metadata": {
        "id": "bDVKC4vCqsnQ"
      },
      "source": [
        "### SURFACE ROUGHNESS PREDICTION MODEL FOR ADDITIVE MANUFACTURING PART"
      ]
    },
    {
      "cell_type": "code",
      "execution_count": 1,
      "metadata": {
        "id": "MwQ98ErAiLun"
      },
      "outputs": [],
      "source": [
        "import pandas as pd\n",
        "import numpy as np\n",
        "from sklearn.model_selection import train_test_split\n",
        "from sklearn.metrics import mean_squared_error, r2_score\n",
        "from sklearn.preprocessing import MinMaxScaler\n",
        "from pygam import GammaGAM"
      ]
    },
    {
      "cell_type": "code",
      "execution_count": 2,
      "metadata": {
        "colab": {
          "base_uri": "https://localhost:8080/",
          "height": 206
        },
        "id": "Bv6XU9sUiLun",
        "outputId": "c951f7fc-d4b8-4026-b199-7e102d6c6509"
      },
      "outputs": [
        {
          "data": {
            "text/html": [
              "<div>\n",
              "<style scoped>\n",
              "    .dataframe tbody tr th:only-of-type {\n",
              "        vertical-align: middle;\n",
              "    }\n",
              "\n",
              "    .dataframe tbody tr th {\n",
              "        vertical-align: top;\n",
              "    }\n",
              "\n",
              "    .dataframe thead th {\n",
              "        text-align: right;\n",
              "    }\n",
              "</style>\n",
              "<table border=\"1\" class=\"dataframe\">\n",
              "  <thead>\n",
              "    <tr style=\"text-align: right;\">\n",
              "      <th></th>\n",
              "      <th>layer height</th>\n",
              "      <th>build angle</th>\n",
              "      <th>surface roughness</th>\n",
              "    </tr>\n",
              "  </thead>\n",
              "  <tbody>\n",
              "    <tr>\n",
              "      <th>0</th>\n",
              "      <td>50</td>\n",
              "      <td>0</td>\n",
              "      <td>2.30</td>\n",
              "    </tr>\n",
              "    <tr>\n",
              "      <th>1</th>\n",
              "      <td>50</td>\n",
              "      <td>5</td>\n",
              "      <td>9.33</td>\n",
              "    </tr>\n",
              "    <tr>\n",
              "      <th>2</th>\n",
              "      <td>50</td>\n",
              "      <td>10</td>\n",
              "      <td>10.23</td>\n",
              "    </tr>\n",
              "    <tr>\n",
              "      <th>3</th>\n",
              "      <td>50</td>\n",
              "      <td>15</td>\n",
              "      <td>12.78</td>\n",
              "    </tr>\n",
              "    <tr>\n",
              "      <th>4</th>\n",
              "      <td>50</td>\n",
              "      <td>20</td>\n",
              "      <td>11.14</td>\n",
              "    </tr>\n",
              "  </tbody>\n",
              "</table>\n",
              "</div>"
            ],
            "text/plain": [
              "   layer height  build angle  surface roughness\n",
              "0            50            0               2.30\n",
              "1            50            5               9.33\n",
              "2            50           10              10.23\n",
              "3            50           15              12.78\n",
              "4            50           20              11.14"
            ]
          },
          "execution_count": 2,
          "metadata": {},
          "output_type": "execute_result"
        }
      ],
      "source": [
        "data = pd.read_csv('dataset.csv')\n",
        "data.head()\n",
        "#NOTE layer height is in microns, build angle is in degree and surface roughness is in microns"
      ]
    },
    {
      "cell_type": "code",
      "execution_count": 3,
      "metadata": {
        "colab": {
          "base_uri": "https://localhost:8080/",
          "height": 449
        },
        "id": "WrCuSUwrlGSl",
        "outputId": "2a6bcc68-01c0-483c-feae-ad700913fcea"
      },
      "outputs": [
        {
          "data": {
            "image/png": "[encoded data removed]",
            "text/plain": [
              "<Figure size 640x480 with 1 Axes>"
            ]
          },
          "metadata": {},
          "output_type": "display_data"
        }
      ],
      "source": [
        "#Plot surface roughness vs build angle for each layer height\n",
        "from matplotlib import pyplot as plt\n",
        "data.plot(kind='scatter', x='build angle', y='surface roughness', s=32, alpha=.8)\n",
        "plt.gca().spines[['top', 'right',]].set_visible(False)"
      ]
    },
    {
      "cell_type": "code",
      "execution_count": 4,
      "metadata": {
        "id": "qSZ4FdglIuxS"
      },
      "outputs": [],
      "source": [
        "# Convert DataFrame columns to NumPy arrays explicitly\n",
        "X = data[['layer height', 'build angle']].values  # Convert to NumPy array\n",
        "Y = data['surface roughness'].values.reshape(-1, 1)  # Ensure Y is 2D\n",
        "\n",
        "# Define separate scalers for X and Y\n",
        "X_scaler = MinMaxScaler(feature_range=(0, 1))\n",
        "Y_scaler = MinMaxScaler(feature_range=(0, 1))\n",
        "\n",
        "# Fit the scalers on training data\n",
        "X_scaled = X_scaler.fit_transform(X)\n",
        "Y_scaled = Y_scaler.fit_transform(Y)\n"
      ]
    },
    {
      "cell_type": "code",
      "execution_count": 5,
      "metadata": {
        "id": "bXeVY2d5gCUp"
      },
      "outputs": [],
      "source": [
        "\n",
        "# Split data into training and test sets\n",
        "X_train, X_test, y_train, y_test = train_test_split(X_scaled, Y_scaled, test_size=0.2, random_state=42)\n",
        "\n",
        "# Train the model\n",
        "gam = GammaGAM().fit(X_train, y_train)"
      ]
    },
    {
      "cell_type": "code",
      "execution_count": 6,
      "metadata": {
        "colab": {
          "base_uri": "https://localhost:8080/"
        },
        "id": "3uGmXAkAkjXE",
        "outputId": "10074fb7-9ad7-4417-a1fc-3b25afb1cfeb"
      },
      "outputs": [
        {
          "name": "stdout",
          "output_type": "stream",
          "text": [
            "R² Score: 0.9231252414211012\n",
            "Adjusted R² Score: 0.9060419617369014\n"
          ]
        }
      ],
      "source": [
        "from sklearn.metrics import r2_score\n",
        "\n",
        "# Predict on test data\n",
        "y_test_pred = gam.predict(X_test)\n",
        "\n",
        "# Compute R² Score\n",
        "r2 = r2_score(y_test, y_test_pred)\n",
        "\n",
        "# Compute Adjusted R² Score\n",
        "n = X_test.shape[0]  # Number of test samples\n",
        "p = X_test.shape[1]  # Number of predictor variables\n",
        "\n",
        "adjusted_r2 = 1 - ((1 - r2) * (n - 1) / (n - p - 1))\n",
        "\n",
        "# Print the scores\n",
        "print(\"R² Score:\", r2)\n",
        "print(\"Adjusted R² Score:\", adjusted_r2)\n"
      ]
    },
    {
      "cell_type": "code",
      "execution_count": 7,
      "metadata": {
        "colab": {
          "base_uri": "https://localhost:8080/",
          "height": 564
        },
        "id": "6u5lT4h7oMzx",
        "outputId": "e61b6839-8482-4f85-f365-7818ba115963"
      },
      "outputs": [
        {
          "data": {
            "image/png": "[encoded data removed]",
            "text/plain": [
              "<Figure size 1000x600 with 1 Axes>"
            ]
          },
          "metadata": {},
          "output_type": "display_data"
        }
      ],
      "source": [
        "import pandas as pd\n",
        "import matplotlib.pyplot as plt\n",
        "\n",
        "# Inverse transform X_test to get original values\n",
        "X_test_original = X_scaler.inverse_transform(X_test)\n",
        "\n",
        "# Extract original 'ang' values\n",
        "ang_original = X_test_original[:, 1]\n",
        "\n",
        "# Inverse transform y_test and y_pred to original scale\n",
        "y_test_original = Y_scaler.inverse_transform(y_test)\n",
        "y_pred_original = Y_scaler.inverse_transform(y_test_pred.reshape(-1, 1))\n",
        "\n",
        "# Create a DataFrame for visualization\n",
        "results = pd.DataFrame({\n",
        "    'Ang': ang_original,\n",
        "    'Actual': y_test_original.flatten(),  # Flatten to 1D array\n",
        "    'Predicted': y_pred_original.flatten()\n",
        "})\n",
        "\n",
        "# Plot actual vs. predicted values\n",
        "plt.figure(figsize=(10, 6))\n",
        "plt.scatter(results['Ang'], results['Actual'], color='green', label='Actual', alpha=0.7)\n",
        "plt.scatter(results['Ang'], results['Predicted'], color='black', label='Predicted', alpha=0.7)\n",
        "plt.xlabel('Build angle')\n",
        "plt.ylabel('Surface roughness')\n",
        "plt.title('Actual vs. Predicted Surface roughness')\n",
        "plt.legend()\n",
        "plt.grid(True)\n",
        "plt.show()\n"
      ]
    },
    {
      "cell_type": "code",
      "execution_count": null,
      "metadata": {
        "colab": {
          "base_uri": "https://localhost:8080/"
        },
        "id": "cWvDJhKMI5Bx",
        "outputId": "84a80ae5-b186-463a-90eb-d98fc9175e15"
      },
      "outputs": [],
      "source": [
        "# Get new user inputs\n",
        "new_layer_height = float(input(\"Enter the new value for layer height in micron: \"))\n",
        "new_build_angle = float(input(\"Enter the new value for build angle in degree: \"))\n",
        "\n",
        "# Convert new input values into a NumPy array\n",
        "X_new = np.array([[new_layer_height, new_build_angle]])\n",
        "\n",
        "# Standardize new input\n",
        "X_new_scaled = X_scaler.transform(X_new)\n",
        "\n",
        "# Predict scaled output\n",
        "ra_new_pred_scaled = gam.predict(X_new_scaled)\n",
        "\n",
        "# Inverse transform prediction\n",
        "ra_new_pred_original = Y_scaler.inverse_transform(ra_new_pred_scaled.reshape(-1, 1))\n",
        "\n",
        "print(\"Predicted Surface roughness in micron:\", ra_new_pred_original[0][0])"
      ]
    },
    {
      "cell_type": "code",
      "execution_count": null,
      "metadata": {
        "colab": {
          "base_uri": "https://localhost:8080/"
        },
        "id": "P8McYcXuoq6p",
        "outputId": "07150f63-332c-488d-e95c-ed1bd10a8a97"
      },
      "outputs": [
        {
          "name": "stdout",
          "output_type": "stream",
          "text": [
            "Model saved successfully!\n"
          ]
        }
      ],
      "source": [
        "import pickle\n",
        "\n",
        "# Save the trained model and scalers\n",
        "with open(\"gam_model.pkl\", \"wb\") as model_file:\n",
        "    pickle.dump({\n",
        "        \"model\": gam,  # The trained GammaGAM model\n",
        "        \"X_scaler\": X_scaler,  # Scaler for input features\n",
        "        \"Y_scaler\": Y_scaler   # Scaler for output\n",
        "    }, model_file)\n",
        "\n",
        "print(\"Model saved successfully!\")\n"
      ]
    },
    {
      "cell_type": "code",
      "execution_count": null,
      "metadata": {
        "id": "qIl4rqPOpXeY"
      },
      "outputs": [],
      "source": [
        "import streamlit as st\n",
        "import pickle\n",
        "import numpy as np\n",
        "\n",
        "# Load the saved model and scalers\n",
        "with open(\"gam_model.pkl\", \"rb\") as model_file:\n",
        "    saved_objects = pickle.load(model_file)\n",
        "\n",
        "gam = saved_objects[\"model\"]  # Load trained model\n",
        "X_scaler = saved_objects[\"X_scaler\"]  # Load X scaler\n",
        "Y_scaler = saved_objects[\"Y_scaler\"]  # Load Y scaler\n",
        "\n",
        "# Streamlit UI\n",
        "st.title(\"Machine SOP Chatbot - Predict Rq\")\n",
        "\n",
        "# Get user input\n",
        "new_lh = st.number_input(\"Enter the new value for lh:\", min_value=0.0, step=0.01)\n",
        "new_ang = st.number_input(\"Enter the new value for ang:\", min_value=0.0, step=0.01)\n",
        "\n",
        "if st.button(\"Predict\"):\n",
        "    # Standardize the new input\n",
        "    X_new = np.array([[new_lh, new_ang]])\n",
        "    X_new_scaled = X_scaler.transform(X_new)\n",
        "\n",
        "    # Predict Rq\n",
        "    ra_new_pred_scaled = gam.predict(X_new_scaled)\n",
        "\n",
        "    # Convert prediction back to original scale\n",
        "    ra_new_pred_original = Y_scaler.inverse_transform(ra_new_pred_scaled.reshape(-1, 1))\n",
        "\n",
        "    # Display the result\n",
        "    st.success(f\"Predicted Rq: {ra_new_pred_original[0][0]:.4f}\")"
      ]
    },
    {
      "cell_type": "code",
      "execution_count": null,
      "metadata": {
        "id": "yeGPBeg_p7Hv"
      },
      "outputs": [],
      "source": []
    }
  ],
  "metadata": {
    "colab": {
      "provenance": []
    },
    "kernelspec": {
      "display_name": "venv",
      "language": "python",
      "name": "python3"
    },
    "language_info": {
      "codemirror_mode": {
        "name": "ipython",
        "version": 3
      },
      "file_extension": ".py",
      "mimetype": "text/x-python",
      "name": "python",
      "nbconvert_exporter": "python",
      "pygments_lexer": "ipython3",
      "version": "3.11.3"
    }
  },
  "nbformat": 4,
  "nbformat_minor": 0
}
